{
 "cells": [
  {
   "cell_type": "markdown",
   "id": "4835d7cc",
   "metadata": {},
   "source": [
    "# Inference "
   ]
  },
  {
   "cell_type": "code",
   "execution_count": 6,
   "id": "aefff212",
   "metadata": {},
   "outputs": [
    {
     "name": "stderr",
     "output_type": "stream",
     "text": [
      "Using cache found in C:\\Users\\DELL/.cache\\torch\\hub\\ultralytics_yolov5_master\n",
      "YOLOv5  2023-4-1 Python-3.10.7 torch-1.13.1+cpu CPU\n",
      "\n",
      "Fusing layers... \n",
      "YOLOv5s summary: 213 layers, 7225885 parameters, 0 gradients\n",
      "Adding AutoShape... \n"
     ]
    }
   ],
   "source": [
    "import cv2\n",
    "import numpy as np\n",
    "import torch\n",
    "\n",
    "# Load model\n",
    "model = torch.hub.load('ultralytics/yolov5', 'yolov5s', pretrained=True)\n",
    "\n",
    "# Load class names\n",
    "with open('E:/DOT EYE/coco.yaml', 'r', encoding='utf8') as f:\n",
    "    classes = [line.strip() for line in f.readlines()][1:]\n",
    "\n",
    "# Define the index of the \"person\" class\n",
    "person_class_index = classes.index('person')\n",
    "\n",
    "# Initialize video file\n",
    "video_file = 'C:/Users/DELL/Downloads/try.mp4'\n",
    "cap = cv2.VideoCapture(video_file)\n",
    "\n",
    "# Loop through frames\n",
    "while True:\n",
    "    # Read frame from video file\n",
    "    ret, frame = cap.read()\n",
    "    if not ret:\n",
    "        break\n",
    "\n",
    "    # Object detection\n",
    "    results = model(frame)\n",
    "    #print(frame.shape)\n",
    "    # Loop through detected objects\n",
    "    for result in results.xyxy[0]:\n",
    "        class_id = int(result[5])\n",
    "        if class_id == person_class_index:  # Check if detected object is a person\n",
    "            class_name = classes[class_id]\n",
    "            confidence = float(result[4])\n",
    "\n",
    "            # Draw bounding box around object\n",
    "            x1, y1, x2, y2 = [int(i) for i in result[:4]]\n",
    "            cv2.rectangle(frame, (x1, y1), (x2, y2), (125, 150, 175), 1)\n",
    "\n",
    "            # Add label to bounding box\n",
    "            label = f\"{class_name} {confidence:.2f}\"\n",
    "            cv2.putText(frame, label, (x1, y1 - 10), cv2.FONT_HERSHEY_PLAIN, 2, (125, 150, 175), 1)\n",
    "\n",
    "    # Show frame\n",
    "    cv2.imshow('frame', frame)\n",
    "\n",
    "    # Exit on 'q' key\n",
    "    key  = cv2.waitKey(1)\n",
    "    if key == ord('q') or key == 27:\n",
    "        break\n",
    "\n",
    "# Clean up\n",
    "cap.release()\n",
    "cv2.destroyAllWindows()\n"
   ]
  },
  {
   "cell_type": "markdown",
   "id": "799bf58e",
   "metadata": {},
   "source": [
    "# Inference using YOLOv4 tiny"
   ]
  },
  {
   "cell_type": "code",
   "execution_count": 16,
   "id": "a4b6b6af",
   "metadata": {},
   "outputs": [],
   "source": [
    "import cv2\n",
    "\n",
    "\n",
    "# Opencv DNN\n",
    "net = cv2.dnn.readNet(\"yolov4-tiny.weights\", \"yolov4-tiny.cfg\")\n",
    "model = cv2.dnn_DetectionModel(net)\n",
    "model.setInputParams(size=(320, 320), scale=1/255)\n",
    "\n",
    "# Load class lists\n",
    "classes = []\n",
    "with open(\"coco.names\", \"r\") as file_object:\n",
    "    for class_name in file_object.readlines():\n",
    "        class_name = class_name.strip()\n",
    "        classes.append(class_name)\n",
    "\n",
    "# Initialize video capture object\n",
    "cap = cv2.VideoCapture(\"C:/Users/DELL/Downloads/try.mp4\")\n",
    "\n",
    "while True:\n",
    "    # Get frames\n",
    "    ret, frame = cap.read()\n",
    "\n",
    "    if not ret:\n",
    "        break\n",
    "    \n",
    "    frame = cv2.resize(frame, (864, 704))\n",
    "    #print(frame.shape)\n",
    "    \n",
    "    # Object Detection\n",
    "    (class_ids, scores, bboxes) = model.detect(frame, confThreshold=0.1, nmsThreshold=.1)\n",
    "    for class_id, score, bbox in zip(class_ids, scores, bboxes):\n",
    "        if classes[class_id.item()] == \"person\":\n",
    "            (x, y, w, h) = bbox\n",
    "            class_name = classes[class_id.item()]\n",
    "\n",
    "            cv2.putText(frame, class_name, (x, y - 10), cv2.FONT_HERSHEY_PLAIN, 1, (125, 150, 175), 2)\n",
    "            cv2.rectangle(frame, (x, y), (x + w, y + h), (125, 150, 175), 3)\n",
    "\n",
    "    cv2.imshow(\"Frame\", frame)\n",
    "    \n",
    "    key = cv2.waitKey(1) & 0xff\n",
    "    if key == ord(\"q\") or key == 27:\n",
    "        break\n",
    "cap.release()\n",
    "cv2.destroyAllWindows()\n"
   ]
  },
  {
   "cell_type": "code",
   "execution_count": null,
   "id": "afb020b4",
   "metadata": {},
   "outputs": [],
   "source": []
  }
 ],
 "metadata": {
  "kernelspec": {
   "display_name": "Python 3 (ipykernel)",
   "language": "python",
   "name": "python3"
  },
  "language_info": {
   "codemirror_mode": {
    "name": "ipython",
    "version": 3
   },
   "file_extension": ".py",
   "mimetype": "text/x-python",
   "name": "python",
   "nbconvert_exporter": "python",
   "pygments_lexer": "ipython3",
   "version": "3.10.7"
  },
  "varInspector": {
   "cols": {
    "lenName": 16,
    "lenType": 16,
    "lenVar": 40
   },
   "kernels_config": {
    "python": {
     "delete_cmd_postfix": "",
     "delete_cmd_prefix": "del ",
     "library": "var_list.py",
     "varRefreshCmd": "print(var_dic_list())"
    },
    "r": {
     "delete_cmd_postfix": ") ",
     "delete_cmd_prefix": "rm(",
     "library": "var_list.r",
     "varRefreshCmd": "cat(var_dic_list()) "
    }
   },
   "types_to_exclude": [
    "module",
    "function",
    "builtin_function_or_method",
    "instance",
    "_Feature"
   ],
   "window_display": false
  }
 },
 "nbformat": 4,
 "nbformat_minor": 5
}
