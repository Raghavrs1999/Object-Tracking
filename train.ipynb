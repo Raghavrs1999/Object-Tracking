{
 "cells": [
  {
   "cell_type": "markdown",
   "id": "c23e0fa7",
   "metadata": {},
   "source": [
    "# Implementing YOLOv5s for coco dataset"
   ]
  },
  {
   "cell_type": "code",
   "execution_count": 1,
   "id": "801ff92f",
   "metadata": {},
   "outputs": [
    {
     "name": "stderr",
     "output_type": "stream",
     "text": [
      "fatal: destination path 'yolov5' already exists and is not an empty directory.\n"
     ]
    }
   ],
   "source": [
    "# Clone the directory\n",
    "!git clone https://github.com/ultralytics/yolov5.git"
   ]
  },
  {
   "cell_type": "code",
   "execution_count": 2,
   "id": "875630a3",
   "metadata": {},
   "outputs": [
    {
     "name": "stdout",
     "output_type": "stream",
     "text": [
      "C:\\Users\\DELL\\YOLOv5\\yolov5\n"
     ]
    }
   ],
   "source": [
    "# Get into directory \n",
    "%cd yolov5/"
   ]
  },
  {
   "cell_type": "code",
   "execution_count": 4,
   "id": "18f5a371",
   "metadata": {},
   "outputs": [
    {
     "name": "stdout",
     "output_type": "stream",
     "text": [
      "^C\n"
     ]
    }
   ],
   "source": [
    "# Installing the specific virsions of packages\n",
    "!pip install -qr requirements.txt "
   ]
  },
  {
   "cell_type": "code",
   "execution_count": 5,
   "id": "f9b168ae",
   "metadata": {},
   "outputs": [],
   "source": [
    "import torch\n",
    "import utils"
   ]
  },
  {
   "cell_type": "code",
   "execution_count": 6,
   "id": "ca993d15",
   "metadata": {},
   "outputs": [
    {
     "name": "stderr",
     "output_type": "stream",
     "text": [
      "YOLOv5  v7.0-132-ga82132c Python-3.10.7 torch-1.13.1+cpu CPU\n"
     ]
    },
    {
     "name": "stdout",
     "output_type": "stream",
     "text": [
      "Setup complete  (8 CPUs, 7.8 GB RAM, 158.5/217.6 GB disk)\n"
     ]
    }
   ],
   "source": [
    "display = utils.notebook_init() "
   ]
  },
  {
   "cell_type": "code",
   "execution_count": 8,
   "id": "40ee3901",
   "metadata": {},
   "outputs": [
    {
     "data": {
      "application/vnd.jupyter.widget-view+json": {
       "model_id": "f9d5571398534db9a1f8ad513b30a920",
       "version_major": 2,
       "version_minor": 0
      },
      "text/plain": [
       "  0%|          | 0.00/780M [00:00<?, ?B/s]"
      ]
     },
     "metadata": {},
     "output_type": "display_data"
    }
   ],
   "source": [
    "# Download coco dataset\n",
    "torch.hub.download_url_to_file('https://ultralytics.com/assets/coco2017val.zip', 'tmp.zip')"
   ]
  },
  {
   "cell_type": "code",
   "execution_count": 9,
   "id": "8200dbc2",
   "metadata": {},
   "outputs": [],
   "source": [
    "# Unzip the dataset \n",
    "import zipfile\n",
    "\n",
    "with zipfile.ZipFile('tmp.zip', 'r') as zip_ref:\n",
    "    zip_ref.extractall('../datasets')"
   ]
  },
  {
   "cell_type": "code",
   "execution_count": 8,
   "id": "028a5ec2",
   "metadata": {},
   "outputs": [
    {
     "name": "stderr",
     "output_type": "stream",
     "text": [
      "\u001b[34m\u001b[1mtrain: \u001b[0mweights=yolov5s.pt, cfg=, data=coco128.yaml, hyp=data\\hyps\\hyp.scratch-low.yaml, epochs=3, batch_size=8, imgsz=640, rect=False, resume=False, nosave=False, noval=False, noautoanchor=False, noplots=False, evolve=None, bucket=, cache=ram, image_weights=False, device=, multi_scale=False, single_cls=False, optimizer=SGD, sync_bn=False, workers=8, project=runs\\train, name=exp, exist_ok=False, quad=False, cos_lr=False, label_smoothing=0.0, patience=100, freeze=[0], save_period=-1, seed=0, local_rank=-1, entity=None, upload_dataset=False, bbox_interval=-1, artifact_alias=latest\n",
      "\u001b[34m\u001b[1mgithub: \u001b[0mup to date with https://github.com/ultralytics/yolov5 \n",
      "YOLOv5  v7.0-132-ga82132c Python-3.8.10 torch-2.0.0+cpu CPU\n",
      "\n",
      "\u001b[34m\u001b[1mhyperparameters: \u001b[0mlr0=0.01, lrf=0.01, momentum=0.937, weight_decay=0.0005, warmup_epochs=3.0, warmup_momentum=0.8, warmup_bias_lr=0.1, box=0.05, cls=0.5, cls_pw=1.0, obj=1.0, obj_pw=1.0, iou_t=0.2, anchor_t=4.0, fl_gamma=0.0, hsv_h=0.015, hsv_s=0.7, hsv_v=0.4, degrees=0.0, translate=0.1, scale=0.5, shear=0.0, perspective=0.0, flipud=0.0, fliplr=0.5, mosaic=1.0, mixup=0.0, copy_paste=0.0\n",
      "\u001b[34m\u001b[1mClearML: \u001b[0mrun 'pip install clearml' to automatically track, visualize and remotely train YOLOv5  in ClearML\n",
      "\u001b[34m\u001b[1mComet: \u001b[0mrun 'pip install comet_ml' to automatically track and visualize YOLOv5  runs in Comet\n",
      "\u001b[34m\u001b[1mTensorBoard: \u001b[0mStart with 'tensorboard --logdir runs\\train', view at http://localhost:6006/\n",
      "\n",
      "                 from  n    params  module                                  arguments                     \n",
      "  0                -1  1      3520  models.common.Conv                      [3, 32, 6, 2, 2]              \n",
      "  1                -1  1     18560  models.common.Conv                      [32, 64, 3, 2]                \n",
      "  2                -1  1     18816  models.common.C3                        [64, 64, 1]                   \n",
      "  3                -1  1     73984  models.common.Conv                      [64, 128, 3, 2]               \n",
      "  4                -1  2    115712  models.common.C3                        [128, 128, 2]                 \n",
      "  5                -1  1    295424  models.common.Conv                      [128, 256, 3, 2]              \n",
      "  6                -1  3    625152  models.common.C3                        [256, 256, 3]                 \n",
      "  7                -1  1   1180672  models.common.Conv                      [256, 512, 3, 2]              \n",
      "  8                -1  1   1182720  models.common.C3                        [512, 512, 1]                 \n",
      "  9                -1  1    656896  models.common.SPPF                      [512, 512, 5]                 \n",
      " 10                -1  1    131584  models.common.Conv                      [512, 256, 1, 1]              \n",
      " 11                -1  1         0  torch.nn.modules.upsampling.Upsample    [None, 2, 'nearest']          \n",
      " 12           [-1, 6]  1         0  models.common.Concat                    [1]                           \n",
      " 13                -1  1    361984  models.common.C3                        [512, 256, 1, False]          \n",
      " 14                -1  1     33024  models.common.Conv                      [256, 128, 1, 1]              \n",
      " 15                -1  1         0  torch.nn.modules.upsampling.Upsample    [None, 2, 'nearest']          \n",
      " 16           [-1, 4]  1         0  models.common.Concat                    [1]                           \n",
      " 17                -1  1     90880  models.common.C3                        [256, 128, 1, False]          \n",
      " 18                -1  1    147712  models.common.Conv                      [128, 128, 3, 2]              \n",
      " 19          [-1, 14]  1         0  models.common.Concat                    [1]                           \n",
      " 20                -1  1    296448  models.common.C3                        [256, 256, 1, False]          \n",
      " 21                -1  1    590336  models.common.Conv                      [256, 256, 3, 2]              \n",
      " 22          [-1, 10]  1         0  models.common.Concat                    [1]                           \n",
      " 23                -1  1   1182720  models.common.C3                        [512, 512, 1, False]          \n",
      " 24      [17, 20, 23]  1    229245  models.yolo.Detect                      [80, [[10, 13, 16, 30, 33, 23], [30, 61, 62, 45, 59, 119], [116, 90, 156, 198, 373, 326]], [128, 256, 512]]\n",
      "Model summary: 214 layers, 7235389 parameters, 7235389 gradients, 16.6 GFLOPs\n",
      "\n",
      "Transferred 349/349 items from yolov5s.pt\n",
      "\u001b[34m\u001b[1moptimizer:\u001b[0m SGD(lr=0.01) with parameter groups 57 weight(decay=0.0), 60 weight(decay=0.0005), 60 bias\n",
      "\n",
      "\u001b[34m\u001b[1mtrain: \u001b[0mScanning C:\\Users\\DELL\\YOLOv5\\datasets\\coco128\\labels\\train2017.cache... 126 images, 2 backgrounds, 0 corrupt: 100%|##########| 128/128 [00:00<?, ?it/s]\n",
      "\u001b[34m\u001b[1mtrain: \u001b[0mScanning C:\\Users\\DELL\\YOLOv5\\datasets\\coco128\\labels\\train2017.cache... 126 images, 2 backgrounds, 0 corrupt: 100%|##########| 128/128 [00:00<?, ?it/s]\n",
      "\n",
      "  0%|          | 0/128 [00:00<?, ?it/s]\n",
      "\u001b[34m\u001b[1mtrain: \u001b[0mCaching images (0.1GB ram):  54%|#####3    | 69/128 [00:00<00:00, 628.63it/s]\n",
      "\u001b[34m\u001b[1mtrain: \u001b[0mCaching images (0.1GB ram): 100%|##########| 128/128 [00:00<00:00, 741.36it/s]\n",
      "\n",
      "\u001b[34m\u001b[1mval: \u001b[0mScanning C:\\Users\\DELL\\YOLOv5\\datasets\\coco128\\labels\\train2017.cache... 126 images, 2 backgrounds, 0 corrupt: 100%|##########| 128/128 [00:00<?, ?it/s]\n",
      "\u001b[34m\u001b[1mval: \u001b[0mScanning C:\\Users\\DELL\\YOLOv5\\datasets\\coco128\\labels\\train2017.cache... 126 images, 2 backgrounds, 0 corrupt: 100%|##########| 128/128 [00:00<?, ?it/s]\n",
      "\n",
      "  0%|          | 0/128 [00:00<?, ?it/s]\n",
      "\u001b[34m\u001b[1mval: \u001b[0mCaching images (0.0GB ram):  33%|###2      | 42/128 [00:00<00:00, 382.65it/s]\n",
      "\u001b[34m\u001b[1mval: \u001b[0mCaching images (0.1GB ram):  74%|#######4  | 95/128 [00:00<00:00, 441.63it/s]\n",
      "\u001b[34m\u001b[1mval: \u001b[0mCaching images (0.1GB ram): 100%|##########| 128/128 [00:00<00:00, 509.64it/s]\n",
      "\n",
      "\u001b[34m\u001b[1mAutoAnchor: \u001b[0m4.27 anchors/target, 0.994 Best Possible Recall (BPR). Current anchors are a good fit to dataset \n",
      "Plotting labels to runs\\train\\exp5\\labels.jpg... \n",
      "Image sizes 640 train, 640 val\n",
      "Using 8 dataloader workers\n",
      "Logging results to \u001b[1mruns\\train\\exp5\u001b[0m\n",
      "Starting training for 3 epochs...\n",
      "\n",
      "      Epoch    GPU_mem   box_loss   obj_loss   cls_loss  Instances       Size\n",
      "\n",
      "  0%|          | 0/16 [00:00<?, ?it/s]\n",
      "        0/2         0G    0.04269    0.04816    0.02011         84        640:   0%|          | 0/16 [00:25<?, ?it/s]\n",
      "        0/2         0G    0.04269    0.04816    0.02011         84        640:   6%|6         | 1/16 [00:31<07:53, 31.59s/it]\n",
      "        0/2         0G    0.04138    0.05324    0.01917         77        640:   6%|6         | 1/16 [00:40<07:53, 31.59s/it]\n",
      "        0/2         0G    0.04138    0.05324    0.01917         77        640:  12%|#2        | 2/16 [00:40<04:15, 18.25s/it]\n",
      "        0/2         0G    0.04403    0.05915    0.01959         86        640:  12%|#2        | 2/16 [00:48<04:15, 18.25s/it]\n",
      "        0/2         0G    0.04403    0.05915    0.01959         86        640:  19%|#8        | 3/16 [00:48<02:53, 13.36s/it]\n",
      "        0/2         0G    0.04578    0.06287    0.01935        123        640:  19%|#8        | 3/16 [00:56<02:53, 13.36s/it]\n",
      "        0/2         0G    0.04578    0.06287    0.01935        123        640:  25%|##5       | 4/16 [00:56<02:16, 11.39s/it]\n",
      "        0/2         0G    0.04616    0.06266    0.01814         88        640:  25%|##5       | 4/16 [01:06<02:16, 11.39s/it]\n",
      "        0/2         0G    0.04616    0.06266    0.01814         88        640:  31%|###1      | 5/16 [01:06<02:01, 11.03s/it]\n",
      "        0/2         0G    0.04656     0.0621    0.01826         96        640:  31%|###1      | 5/16 [01:16<02:01, 11.03s/it]\n",
      "        0/2         0G    0.04656     0.0621    0.01826         96        640:  38%|###7      | 6/16 [01:16<01:47, 10.70s/it]\n",
      "        0/2         0G     0.0469    0.06157    0.01815         95        640:  38%|###7      | 6/16 [01:27<01:47, 10.70s/it]\n",
      "        0/2         0G     0.0469    0.06157    0.01815         95        640:  44%|####3     | 7/16 [01:27<01:34, 10.53s/it]\n",
      "        0/2         0G    0.04596    0.06404    0.01802        115        640:  44%|####3     | 7/16 [01:37<01:34, 10.53s/it]\n",
      "        0/2         0G    0.04596    0.06404    0.01802        115        640:  50%|#####     | 8/16 [01:37<01:24, 10.56s/it]\n",
      "        0/2         0G    0.04632    0.06557    0.01765        110        640:  50%|#####     | 8/16 [01:48<01:24, 10.56s/it]\n",
      "        0/2         0G    0.04632    0.06557    0.01765        110        640:  56%|#####6    | 9/16 [01:48<01:14, 10.70s/it]\n",
      "        0/2         0G    0.04651    0.06471    0.01824        103        640:  56%|#####6    | 9/16 [02:03<01:14, 10.70s/it]\n",
      "        0/2         0G    0.04651    0.06471    0.01824        103        640:  62%|######2   | 10/16 [02:03<01:11, 11.85s/it]\n",
      "        0/2         0G    0.04628    0.06294    0.01787         80        640:  62%|######2   | 10/16 [02:15<01:11, 11.85s/it]\n",
      "        0/2         0G    0.04628    0.06294    0.01787         80        640:  69%|######8   | 11/16 [02:15<00:59, 11.94s/it]\n",
      "        0/2         0G    0.04616    0.06301    0.01788        111        640:  69%|######8   | 11/16 [02:27<00:59, 11.94s/it]\n",
      "        0/2         0G    0.04616    0.06301    0.01788        111        640:  75%|#######5  | 12/16 [02:27<00:47, 11.99s/it]\n",
      "        0/2         0G    0.04616    0.06671    0.01794        154        640:  75%|#######5  | 12/16 [02:40<00:47, 11.99s/it]\n",
      "        0/2         0G    0.04616    0.06671    0.01794        154        640:  81%|########1 | 13/16 [02:40<00:37, 12.48s/it]\n",
      "        0/2         0G    0.04637    0.07012    0.01791        183        640:  81%|########1 | 13/16 [02:53<00:37, 12.48s/it]\n",
      "        0/2         0G    0.04637    0.07012    0.01791        183        640:  88%|########7 | 14/16 [02:53<00:25, 12.54s/it]\n",
      "        0/2         0G    0.04645    0.06877    0.01812         64        640:  88%|########7 | 14/16 [03:04<00:25, 12.54s/it]\n",
      "        0/2         0G    0.04645    0.06877    0.01812         64        640:  94%|#########3| 15/16 [03:04<00:11, 11.97s/it]\n",
      "        0/2         0G    0.04615    0.06851    0.01789        101        640:  94%|#########3| 15/16 [03:14<00:11, 11.97s/it]\n",
      "        0/2         0G    0.04615    0.06851    0.01789        101        640: 100%|##########| 16/16 [03:14<00:00, 11.41s/it]\n",
      "        0/2         0G    0.04615    0.06851    0.01789        101        640: 100%|##########| 16/16 [03:14<00:00, 12.15s/it]\n",
      "\n",
      "                 Class     Images  Instances          P          R      mAP50   mAP50-95:   0%|          | 0/8 [00:00<?, ?it/s]\n",
      "                 Class     Images  Instances          P          R      mAP50   mAP50-95:  12%|#2        | 1/8 [00:05<00:35,  5.07s/it]\n",
      "                 Class     Images  Instances          P          R      mAP50   mAP50-95:  25%|##5       | 2/8 [00:09<00:28,  4.67s/it]\n",
      "                 Class     Images  Instances          P          R      mAP50   mAP50-95:  38%|###7      | 3/8 [00:14<00:23,  4.62s/it]\n",
      "                 Class     Images  Instances          P          R      mAP50   mAP50-95:  50%|#####     | 4/8 [00:18<00:18,  4.65s/it]\n",
      "                 Class     Images  Instances          P          R      mAP50   mAP50-95:  62%|######2   | 5/8 [00:23<00:14,  4.67s/it]\n",
      "                 Class     Images  Instances          P          R      mAP50   mAP50-95:  75%|#######5  | 6/8 [00:28<00:09,  4.98s/it]\n",
      "                 Class     Images  Instances          P          R      mAP50   mAP50-95:  88%|########7 | 7/8 [00:34<00:05,  5.02s/it]\n",
      "                 Class     Images  Instances          P          R      mAP50   mAP50-95: 100%|##########| 8/8 [00:38<00:00,  4.89s/it]\n",
      "                 Class     Images  Instances          P          R      mAP50   mAP50-95: 100%|##########| 8/8 [00:38<00:00,  4.84s/it]\n",
      "                   all        128        929      0.732      0.615      0.708      0.473\n",
      "\n",
      "      Epoch    GPU_mem   box_loss   obj_loss   cls_loss  Instances       Size\n",
      "\n",
      "  0%|          | 0/16 [00:00<?, ?it/s]\n",
      "        1/2         0G    0.03962    0.05066    0.01668         75        640:   0%|          | 0/16 [00:07<?, ?it/s]\n",
      "        1/2         0G    0.03962    0.05066    0.01668         75        640:   6%|6         | 1/16 [00:07<01:50,  7.34s/it]\n",
      "        1/2         0G     0.0402    0.04974    0.01946         75        640:   6%|6         | 1/16 [00:14<01:50,  7.34s/it]\n",
      "        1/2         0G     0.0402    0.04974    0.01946         75        640:  12%|#2        | 2/16 [00:14<01:40,  7.19s/it]\n",
      "        1/2         0G    0.04068     0.0538    0.01756        106        640:  12%|#2        | 2/16 [00:21<01:40,  7.19s/it]\n",
      "        1/2         0G    0.04068     0.0538    0.01756        106        640:  19%|#8        | 3/16 [00:21<01:31,  7.04s/it]\n",
      "        1/2         0G    0.04006    0.05657    0.01884         90        640:  19%|#8        | 3/16 [00:28<01:31,  7.04s/it]\n",
      "        1/2         0G    0.04006    0.05657    0.01884         90        640:  25%|##5       | 4/16 [00:28<01:23,  6.98s/it]\n",
      "        1/2         0G    0.04205    0.06488     0.0193        149        640:  25%|##5       | 4/16 [00:35<01:23,  6.98s/it]\n",
      "        1/2         0G    0.04205    0.06488     0.0193        149        640:  31%|###1      | 5/16 [00:35<01:16,  6.96s/it]\n",
      "        1/2         0G    0.04243    0.06796    0.01816        107        640:  31%|###1      | 5/16 [00:42<01:16,  6.96s/it]\n",
      "        1/2         0G    0.04243    0.06796    0.01816        107        640:  38%|###7      | 6/16 [00:42<01:10,  7.09s/it]\n",
      "        1/2         0G    0.04267    0.06586    0.01828         75        640:  38%|###7      | 6/16 [00:49<01:10,  7.09s/it]\n",
      "        1/2         0G    0.04267    0.06586    0.01828         75        640:  44%|####3     | 7/16 [00:49<01:03,  7.02s/it]\n",
      "        1/2         0G    0.04234    0.06668    0.01803        114        640:  44%|####3     | 7/16 [00:56<01:03,  7.02s/it]\n",
      "        1/2         0G    0.04234    0.06668    0.01803        114        640:  50%|#####     | 8/16 [00:56<00:56,  7.00s/it]\n",
      "        1/2         0G    0.04297    0.06543    0.01794        109        640:  50%|#####     | 8/16 [01:03<00:56,  7.00s/it]\n",
      "        1/2         0G    0.04297    0.06543    0.01794        109        640:  56%|#####6    | 9/16 [01:03<00:48,  6.98s/it]\n",
      "        1/2         0G    0.04276    0.06449    0.01799         93        640:  56%|#####6    | 9/16 [01:10<00:48,  6.98s/it]\n",
      "        1/2         0G    0.04276    0.06449    0.01799         93        640:  62%|######2   | 10/16 [01:10<00:42,  7.15s/it]\n",
      "        1/2         0G    0.04352    0.06261    0.01786         62        640:  62%|######2   | 10/16 [01:18<00:42,  7.15s/it]\n",
      "        1/2         0G    0.04352    0.06261    0.01786         62        640:  69%|######8   | 11/16 [01:18<00:36,  7.39s/it]\n",
      "        1/2         0G    0.04347    0.06245    0.01849         85        640:  69%|######8   | 11/16 [01:26<00:36,  7.39s/it]\n",
      "        1/2         0G    0.04347    0.06245    0.01849         85        640:  75%|#######5  | 12/16 [01:26<00:30,  7.59s/it]\n",
      "        1/2         0G    0.04346    0.06237    0.01854         89        640:  75%|#######5  | 12/16 [01:34<00:30,  7.59s/it]\n",
      "        1/2         0G    0.04346    0.06237    0.01854         89        640:  81%|########1 | 13/16 [01:34<00:22,  7.56s/it]\n",
      "        1/2         0G    0.04309    0.06069    0.01874         55        640:  81%|########1 | 13/16 [01:41<00:22,  7.56s/it]\n",
      "        1/2         0G    0.04309    0.06069    0.01874         55        640:  88%|########7 | 14/16 [01:41<00:15,  7.57s/it]\n",
      "        1/2         0G    0.04319     0.0629    0.01851        159        640:  88%|########7 | 14/16 [01:50<00:15,  7.57s/it]\n",
      "        1/2         0G    0.04319     0.0629    0.01851        159        640:  94%|#########3| 15/16 [01:50<00:07,  7.84s/it]\n",
      "        1/2         0G    0.04282    0.06208    0.01835         88        640:  94%|#########3| 15/16 [01:58<00:07,  7.84s/it]\n",
      "        1/2         0G    0.04282    0.06208    0.01835         88        640: 100%|##########| 16/16 [01:58<00:00,  8.01s/it]\n",
      "        1/2         0G    0.04282    0.06208    0.01835         88        640: 100%|##########| 16/16 [01:58<00:00,  7.42s/it]\n",
      "\n",
      "                 Class     Images  Instances          P          R      mAP50   mAP50-95:   0%|          | 0/8 [00:00<?, ?it/s]\n",
      "                 Class     Images  Instances          P          R      mAP50   mAP50-95:  12%|#2        | 1/8 [00:04<00:33,  4.86s/it]\n",
      "                 Class     Images  Instances          P          R      mAP50   mAP50-95:  25%|##5       | 2/8 [00:10<00:31,  5.27s/it]\n",
      "                 Class     Images  Instances          P          R      mAP50   mAP50-95:  38%|###7      | 3/8 [00:15<00:25,  5.04s/it]\n",
      "                 Class     Images  Instances          P          R      mAP50   mAP50-95:  50%|#####     | 4/8 [00:20<00:20,  5.07s/it]\n",
      "                 Class     Images  Instances          P          R      mAP50   mAP50-95:  62%|######2   | 5/8 [00:25<00:15,  5.23s/it]\n",
      "                 Class     Images  Instances          P          R      mAP50   mAP50-95:  75%|#######5  | 6/8 [00:32<00:11,  5.76s/it]\n",
      "                 Class     Images  Instances          P          R      mAP50   mAP50-95:  88%|########7 | 7/8 [00:38<00:05,  5.85s/it]\n",
      "                 Class     Images  Instances          P          R      mAP50   mAP50-95: 100%|##########| 8/8 [00:43<00:00,  5.65s/it]\n",
      "                 Class     Images  Instances          P          R      mAP50   mAP50-95: 100%|##########| 8/8 [00:43<00:00,  5.48s/it]\n",
      "                   all        128        929       0.81      0.624      0.745      0.499\n",
      "\n",
      "      Epoch    GPU_mem   box_loss   obj_loss   cls_loss  Instances       Size\n",
      "\n",
      "  0%|          | 0/16 [00:00<?, ?it/s]\n",
      "        2/2         0G    0.05253    0.06854    0.02033        118        640:   0%|          | 0/16 [00:09<?, ?it/s]\n",
      "        2/2         0G    0.05253    0.06854    0.02033        118        640:   6%|6         | 1/16 [00:09<02:29,  9.93s/it]\n",
      "        2/2         0G    0.04626    0.05716    0.02333         47        640:   6%|6         | 1/16 [00:19<02:29,  9.93s/it]\n",
      "        2/2         0G    0.04626    0.05716    0.02333         47        640:  12%|#2        | 2/16 [00:19<02:15,  9.69s/it]\n",
      "        2/2         0G    0.04847    0.06347    0.02197        140        640:  12%|#2        | 2/16 [00:28<02:15,  9.69s/it]\n",
      "        2/2         0G    0.04847    0.06347    0.02197        140        640:  19%|#8        | 3/16 [00:28<02:03,  9.50s/it]\n",
      "        2/2         0G    0.04708    0.06735    0.02072        126        640:  19%|#8        | 3/16 [00:37<02:03,  9.50s/it]\n",
      "        2/2         0G    0.04708    0.06735    0.02072        126        640:  25%|##5       | 4/16 [00:37<01:50,  9.23s/it]\n",
      "        2/2         0G    0.04608     0.0716    0.01957        118        640:  25%|##5       | 4/16 [00:46<01:50,  9.23s/it]\n",
      "        2/2         0G    0.04608     0.0716    0.01957        118        640:  31%|###1      | 5/16 [00:46<01:41,  9.20s/it]\n",
      "        2/2         0G    0.04618    0.07191    0.02006        128        640:  31%|###1      | 5/16 [00:56<01:41,  9.20s/it]\n",
      "        2/2         0G    0.04618    0.07191    0.02006        128        640:  38%|###7      | 6/16 [00:56<01:35,  9.57s/it]\n",
      "        2/2         0G      0.046    0.07385    0.01991        127        640:  38%|###7      | 6/16 [01:06<01:35,  9.57s/it]\n",
      "        2/2         0G      0.046    0.07385    0.01991        127        640:  44%|####3     | 7/16 [01:06<01:26,  9.56s/it]\n",
      "        2/2         0G    0.04595    0.07429     0.0191        120        640:  44%|####3     | 7/16 [01:15<01:26,  9.56s/it]\n",
      "        2/2         0G    0.04595    0.07429     0.0191        120        640:  50%|#####     | 8/16 [01:15<01:15,  9.48s/it]\n",
      "        2/2         0G    0.04583     0.0742    0.01871        104        640:  50%|#####     | 8/16 [01:24<01:15,  9.48s/it]\n",
      "        2/2         0G    0.04583     0.0742    0.01871        104        640:  56%|#####6    | 9/16 [01:24<01:04,  9.28s/it]\n",
      "        2/2         0G    0.04604    0.07404    0.01832        119        640:  56%|#####6    | 9/16 [01:33<01:04,  9.28s/it]\n",
      "        2/2         0G    0.04604    0.07404    0.01832        119        640:  62%|######2   | 10/16 [01:33<00:55,  9.22s/it]\n",
      "        2/2         0G    0.04573    0.07343    0.01811        102        640:  62%|######2   | 10/16 [01:42<00:55,  9.22s/it]\n",
      "        2/2         0G    0.04573    0.07343    0.01811        102        640:  69%|######8   | 11/16 [01:42<00:45,  9.20s/it]\n",
      "        2/2         0G    0.04611    0.07537     0.0182        176        640:  69%|######8   | 11/16 [01:52<00:45,  9.20s/it]\n",
      "        2/2         0G    0.04611    0.07537     0.0182        176        640:  75%|#######5  | 12/16 [01:52<00:37,  9.46s/it]\n",
      "        2/2         0G    0.04598    0.07446    0.01789        116        640:  75%|#######5  | 12/16 [02:03<00:37,  9.46s/it]\n",
      "        2/2         0G    0.04598    0.07446    0.01789        116        640:  81%|########1 | 13/16 [02:03<00:29,  9.71s/it]\n",
      "        2/2         0G     0.0457    0.07428    0.01793        138        640:  81%|########1 | 13/16 [02:12<00:29,  9.71s/it]\n",
      "        2/2         0G     0.0457    0.07428    0.01793        138        640:  88%|########7 | 14/16 [02:12<00:19,  9.71s/it]\n",
      "        2/2         0G    0.04506    0.07224    0.01754         63        640:  88%|########7 | 14/16 [02:21<00:19,  9.71s/it]\n",
      "        2/2         0G    0.04506    0.07224    0.01754         63        640:  94%|#########3| 15/16 [02:21<00:09,  9.44s/it]\n",
      "        2/2         0G    0.04502    0.07234    0.01758        124        640:  94%|#########3| 15/16 [02:29<00:09,  9.44s/it]\n",
      "        2/2         0G    0.04502    0.07234    0.01758        124        640: 100%|##########| 16/16 [02:29<00:00,  9.05s/it]\n",
      "        2/2         0G    0.04502    0.07234    0.01758        124        640: 100%|##########| 16/16 [02:29<00:00,  9.37s/it]\n",
      "\n",
      "                 Class     Images  Instances          P          R      mAP50   mAP50-95:   0%|          | 0/8 [00:00<?, ?it/s]\n",
      "                 Class     Images  Instances          P          R      mAP50   mAP50-95:  12%|#2        | 1/8 [00:04<00:29,  4.28s/it]\n",
      "                 Class     Images  Instances          P          R      mAP50   mAP50-95:  25%|##5       | 2/8 [00:08<00:25,  4.24s/it]\n",
      "                 Class     Images  Instances          P          R      mAP50   mAP50-95:  38%|###7      | 3/8 [00:13<00:22,  4.42s/it]\n",
      "                 Class     Images  Instances          P          R      mAP50   mAP50-95:  50%|#####     | 4/8 [00:17<00:18,  4.51s/it]\n",
      "                 Class     Images  Instances          P          R      mAP50   mAP50-95:  62%|######2   | 5/8 [00:22<00:13,  4.64s/it]\n",
      "                 Class     Images  Instances          P          R      mAP50   mAP50-95:  75%|#######5  | 6/8 [00:28<00:10,  5.14s/it]\n",
      "                 Class     Images  Instances          P          R      mAP50   mAP50-95:  88%|########7 | 7/8 [00:34<00:05,  5.26s/it]\n",
      "                 Class     Images  Instances          P          R      mAP50   mAP50-95: 100%|##########| 8/8 [00:38<00:00,  5.04s/it]\n",
      "                 Class     Images  Instances          P          R      mAP50   mAP50-95: 100%|##########| 8/8 [00:38<00:00,  4.85s/it]\n",
      "                   all        128        929      0.803      0.635      0.744        0.5\n",
      "\n",
      "3 epochs completed in 0.163 hours.\n",
      "Optimizer stripped from runs\\train\\exp5\\weights\\last.pt, 14.8MB\n",
      "Optimizer stripped from runs\\train\\exp5\\weights\\best.pt, 14.8MB\n",
      "\n",
      "Validating runs\\train\\exp5\\weights\\best.pt...\n",
      "Fusing layers... \n",
      "Model summary: 157 layers, 7225885 parameters, 0 gradients, 16.4 GFLOPs\n",
      "\n",
      "                 Class     Images  Instances          P          R      mAP50   mAP50-95:   0%|          | 0/8 [00:00<?, ?it/s]\n",
      "                 Class     Images  Instances          P          R      mAP50   mAP50-95:  12%|#2        | 1/8 [00:03<00:27,  3.91s/it]\n",
      "                 Class     Images  Instances          P          R      mAP50   mAP50-95:  25%|##5       | 2/8 [00:07<00:23,  4.00s/it]\n",
      "                 Class     Images  Instances          P          R      mAP50   mAP50-95:  38%|###7      | 3/8 [00:12<00:21,  4.26s/it]\n",
      "                 Class     Images  Instances          P          R      mAP50   mAP50-95:  50%|#####     | 4/8 [00:17<00:17,  4.38s/it]\n",
      "                 Class     Images  Instances          P          R      mAP50   mAP50-95:  62%|######2   | 5/8 [00:21<00:13,  4.45s/it]\n",
      "                 Class     Images  Instances          P          R      mAP50   mAP50-95:  75%|#######5  | 6/8 [00:27<00:09,  4.89s/it]\n",
      "                 Class     Images  Instances          P          R      mAP50   mAP50-95:  88%|########7 | 7/8 [00:33<00:05,  5.13s/it]\n",
      "                 Class     Images  Instances          P          R      mAP50   mAP50-95: 100%|##########| 8/8 [00:37<00:00,  5.03s/it]\n",
      "                 Class     Images  Instances          P          R      mAP50   mAP50-95: 100%|##########| 8/8 [00:37<00:00,  4.73s/it]\n",
      "                   all        128        929      0.801      0.637      0.744      0.499\n",
      "                person        128        254      0.895      0.674      0.809      0.523\n",
      "               bicycle        128          6          1      0.311      0.723      0.393\n",
      "                   car        128         46      0.727      0.413      0.569      0.246\n",
      "            motorcycle        128          5        0.7        0.8      0.818      0.661\n",
      "              airplane        128          6      0.989          1      0.995      0.702\n",
      "                   bus        128          7      0.713      0.714      0.779      0.636\n",
      "                 train        128          3          1      0.619      0.913      0.477\n",
      "                 truck        128         12      0.765      0.333      0.511      0.265\n",
      "                  boat        128          6          1      0.324      0.499      0.201\n",
      "         traffic light        128         14      0.625      0.241      0.389      0.217\n",
      "             stop sign        128          2      0.817          1      0.995      0.747\n",
      "                 bench        128          9      0.797      0.444      0.697      0.338\n",
      "                  bird        128         16      0.876          1      0.988       0.68\n",
      "                   cat        128          4      0.875          1      0.995      0.846\n",
      "                   dog        128          9      0.851      0.556      0.866      0.612\n",
      "                 horse        128          2      0.839          1      0.995      0.573\n",
      "              elephant        128         17      0.951      0.882      0.924      0.728\n",
      "                  bear        128          1      0.714          1      0.995      0.995\n",
      "                 zebra        128          4      0.881          1      0.995      0.831\n",
      "               giraffe        128          9      0.879      0.807      0.962      0.769\n",
      "              backpack        128          6      0.913        0.5      0.709      0.358\n",
      "              umbrella        128         18      0.899      0.722      0.887      0.531\n",
      "               handbag        128         19      0.714      0.158      0.326      0.177\n",
      "                   tie        128          7      0.695      0.571      0.704      0.423\n",
      "              suitcase        128          4      0.899          1      0.995      0.639\n",
      "               frisbee        128          5      0.689        0.8      0.799      0.586\n",
      "                  skis        128          1      0.782          1      0.995      0.597\n",
      "             snowboard        128          7       0.87      0.714      0.861      0.646\n",
      "           sports ball        128          6      0.645      0.667      0.602      0.344\n",
      "                  kite        128         10      0.635      0.525      0.595      0.254\n",
      "          baseball bat        128          4          1      0.494      0.541      0.221\n",
      "        baseball glove        128          7      0.763      0.429      0.466      0.293\n",
      "            skateboard        128          5      0.577        0.4      0.597       0.46\n",
      "         tennis racket        128          7      0.807      0.429      0.534      0.335\n",
      "                bottle        128         18      0.722      0.333      0.581      0.294\n",
      "            wine glass        128         16      0.775       0.86      0.927      0.505\n",
      "                   cup        128         36      0.961      0.691      0.827      0.536\n",
      "                  fork        128          6          1      0.301      0.462      0.306\n",
      "                 knife        128         16      0.757      0.586      0.701      0.401\n",
      "                 spoon        128         22      0.823      0.423      0.607      0.355\n",
      "                  bowl        128         28       0.95      0.607      0.766      0.583\n",
      "                banana        128          1      0.761          1      0.995      0.204\n",
      "              sandwich        128          2          1          0      0.497      0.448\n",
      "                orange        128          4       0.56          1      0.995      0.722\n",
      "              broccoli        128         11      0.499      0.455      0.456      0.348\n",
      "                carrot        128         24      0.772      0.708      0.747       0.51\n",
      "               hot dog        128          2      0.486          1      0.828      0.745\n",
      "                 pizza        128          5      0.911        0.8      0.938      0.748\n",
      "                 donut        128         14       0.67          1      0.955      0.804\n",
      "                  cake        128          4      0.877          1      0.995      0.822\n",
      "                 chair        128         35      0.487        0.6      0.613      0.325\n",
      "                 couch        128          6          1      0.688      0.886      0.549\n",
      "          potted plant        128         14       0.73      0.786      0.842      0.502\n",
      "                   bed        128          3      0.875      0.333      0.665      0.383\n",
      "          dining table        128         13      0.801       0.31       0.59      0.365\n",
      "                toilet        128          2      0.813          1      0.995      0.895\n",
      "                    tv        128          2       0.76          1      0.995      0.796\n",
      "                laptop        128          3          1          0      0.607      0.321\n",
      "                 mouse        128          2          1          0      0.129     0.0645\n",
      "                remote        128          8      0.988      0.625      0.634      0.538\n",
      "            cell phone        128          8      0.702      0.375      0.428      0.234\n",
      "             microwave        128          3      0.854          1      0.995      0.756\n",
      "                  oven        128          5      0.461        0.4      0.424      0.298\n",
      "                  sink        128          6      0.648      0.315      0.386      0.271\n",
      "          refrigerator        128          5      0.659        0.8      0.805      0.546\n",
      "                  book        128         29      0.737      0.207      0.333      0.155\n",
      "                 clock        128          9      0.865      0.889       0.94      0.704\n",
      "                  vase        128          2      0.447          1      0.995      0.945\n",
      "              scissors        128          1          1          0      0.497     0.0498\n",
      "            teddy bear        128         21       0.81      0.571      0.779      0.499\n",
      "            toothbrush        128          5       0.92          1      0.995      0.604\n",
      "Results saved to \u001b[1mruns\\train\\exp5\u001b[0m\n"
     ]
    }
   ],
   "source": [
    "# Training the model\n",
    "!python train.py --img 640 --batch 8 --epochs 3 --data coco128.yaml --weights yolov5s.pt --cache"
   ]
  },
  {
   "cell_type": "code",
   "execution_count": null,
   "id": "3242a248",
   "metadata": {},
   "outputs": [],
   "source": []
  }
 ],
 "metadata": {
  "kernelspec": {
   "display_name": "Python 3 (ipykernel)",
   "language": "python",
   "name": "python3"
  },
  "language_info": {
   "codemirror_mode": {
    "name": "ipython",
    "version": 3
   },
   "file_extension": ".py",
   "mimetype": "text/x-python",
   "name": "python",
   "nbconvert_exporter": "python",
   "pygments_lexer": "ipython3",
   "version": "3.10.7"
  },
  "varInspector": {
   "cols": {
    "lenName": 16,
    "lenType": 16,
    "lenVar": 40
   },
   "kernels_config": {
    "python": {
     "delete_cmd_postfix": "",
     "delete_cmd_prefix": "del ",
     "library": "var_list.py",
     "varRefreshCmd": "print(var_dic_list())"
    },
    "r": {
     "delete_cmd_postfix": ") ",
     "delete_cmd_prefix": "rm(",
     "library": "var_list.r",
     "varRefreshCmd": "cat(var_dic_list()) "
    }
   },
   "types_to_exclude": [
    "module",
    "function",
    "builtin_function_or_method",
    "instance",
    "_Feature"
   ],
   "window_display": false
  }
 },
 "nbformat": 4,
 "nbformat_minor": 5
}
